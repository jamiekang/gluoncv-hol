{
 "cells": [
  {
   "cell_type": "markdown",
   "metadata": {},
   "source": [
    "# AWS DevDay Seoul 2019\n",
    "## 모두를 위한 컴퓨터 비전 딥러닝 툴킷, GluonCV 따라하기\n",
    "## Lab 1.2 Object detection 데이터셋 준비하기 - RecordIO 파일 만들기"
   ]
  },
  {
   "cell_type": "markdown",
   "metadata": {},
   "source": [
    "노트북을 처음 로딩할 때, Kernel로 **conda_mxnet_p36** 을 선택합니다.\n",
    "\n",
    "### 랩 순서\n",
    "\n",
    "1. GluonCV 설치하기\n",
    "2. Ground Truth의 결과 manifest 파일로 부터 lst 파일 생성하기\n",
    "3. im2rec 툴을 이용해서 RecordIO 파일 생성하기"
   ]
  },
  {
   "cell_type": "markdown",
   "metadata": {},
   "source": [
    "## Task 1 - GluonCV 설치하기"
   ]
  },
  {
   "cell_type": "code",
   "execution_count": null,
   "metadata": {},
   "outputs": [],
   "source": [
    "# 최초 실행시 GPU(p2/p3) instance에서는 아래 코드로 gluoncv 패키지를 설치하세요.\n",
    "!pip install --upgrade mxnet-cu100mkl gluoncv\n",
    "# CPU(c4/c5/m4/m5/t2/t3) instance에서는 아래 코드로 gluoncv 패키지를 설치하세요.\n",
    "#!pip install --upgrade mxnet-mkl gluoncv"
   ]
  },
  {
   "cell_type": "markdown",
   "metadata": {},
   "source": [
    "## Task 2 - Ground Truth의 결과 manifest 파일로 부터 lst 파일 생성하기"
   ]
  },
  {
   "cell_type": "code",
   "execution_count": null,
   "metadata": {},
   "outputs": [],
   "source": [
    "import os\n",
    "import subprocess\n",
    "\n",
    "from gluoncv import utils\n",
    "from gluoncv.data import LstDetection\n",
    "\n",
    "from matplotlib import pyplot as plt\n",
    "\n",
    "from utils import create_lst, write_lst_to_file"
   ]
  },
  {
   "cell_type": "markdown",
   "metadata": {},
   "source": [
    "# <font color='red'>중요!!</font> \n",
    "\n",
    "## 아래 `gt_job_name` 변수의 값을 반드시 이전 단계에서 정의한 Ground Truth job의 이름으로 변경해주세요!!"
   ]
  },
  {
   "cell_type": "code",
   "execution_count": null,
   "metadata": {},
   "outputs": [],
   "source": [
    "base_dir = '.'\n",
    "im_dir = '{}/lab-images'.format(base_dir)\n",
    "gt_manifest = '{}/output.manifest'.format(base_dir)\n",
    "\n",
    "gt_job_name = 'devday-gluoncv-lab'\n",
    "\n",
    "testset_ratio = 0.3"
   ]
  },
  {
   "cell_type": "code",
   "execution_count": null,
   "metadata": {
    "scrolled": true
   },
   "outputs": [],
   "source": [
    "lst_list, number_label, number_no_label = create_lst(gt_manifest, gt_job_name)\n",
    "\n",
    "print('number of frames with label    : {}'.format(number_label))\n",
    "print('number of frames with no label : {}'.format(number_no_label))"
   ]
  },
  {
   "cell_type": "code",
   "execution_count": null,
   "metadata": {},
   "outputs": [],
   "source": [
    "testset_first_idx = int(len(lst_list) * (1-testset_ratio))\n",
    "\n",
    "train_lst = lst_list[:testset_first_idx]\n",
    "test_lst = lst_list[testset_first_idx:]\n",
    "\n",
    "print('number of train dataset : {}'.format(len(train_lst)))\n",
    "print('number of test dataset : {}'.format(len(test_lst)))"
   ]
  },
  {
   "cell_type": "code",
   "execution_count": null,
   "metadata": {},
   "outputs": [],
   "source": [
    "train_lst_fname = '{}/train.lst'.format(base_dir)\n",
    "test_lst_fname = '{}/test.lst'.format(base_dir)\n",
    "\n",
    "write_lst_to_file(train_lst, train_lst_fname)\n",
    "write_lst_to_file(test_lst, test_lst_fname)"
   ]
  },
  {
   "cell_type": "code",
   "execution_count": null,
   "metadata": {},
   "outputs": [],
   "source": [
    "lst_dataset = LstDetection(test_lst_fname, root=im_dir)\n",
    "\n",
    "img_idx = 1\n",
    "\n",
    "img = lst_dataset[img_idx][0]\n",
    "\n",
    "bbox=lst_dataset[img_idx][1][0][0:4].astype(int)\n",
    "bbox = bbox.reshape(1,-1)\n",
    "\n",
    "ids = lst_dataset[img_idx][1][0][4].astype(int)\n",
    "ids = ids.reshape(1,-1)"
   ]
  },
  {
   "cell_type": "code",
   "execution_count": null,
   "metadata": {},
   "outputs": [],
   "source": [
    "ax = utils.viz.plot_image(img)\n",
    "plt.show()"
   ]
  },
  {
   "cell_type": "code",
   "execution_count": null,
   "metadata": {},
   "outputs": [],
   "source": [
    "ax = utils.viz.plot_bbox(img, bbox, labels=ids) "
   ]
  },
  {
   "cell_type": "markdown",
   "metadata": {},
   "source": [
    "## Task 3 - im2rec 툴을 이용해서 RecordIO 파일 생성하기"
   ]
  },
  {
   "cell_type": "code",
   "execution_count": null,
   "metadata": {},
   "outputs": [],
   "source": [
    "datasets = ['train', 'test']\n",
    "\n",
    "for dataset in datasets:\n",
    "    cmd = 'python im2rec.py {}.lst {} --no-shuffle --pass-through --pack-label'.format(dataset, im_dir)\n",
    "    print(cmd)\n",
    "    os.system(cmd)"
   ]
  },
  {
   "cell_type": "code",
   "execution_count": null,
   "metadata": {},
   "outputs": [],
   "source": [
    "!ls -al *.rec"
   ]
  },
  {
   "cell_type": "markdown",
   "metadata": {},
   "source": [
    "----\n",
    "레이블링한 데이터로 RecordIO 파일이 만들어진 것을 확인할 수 있습니다. 뒤의 실습에서 이 형식의 파일이 직접 사용되는 것을 보시게 됩니다.\n",
    "\n",
    "지금까지 Lab 1을 진행하시느라 수고하셨습니다."
   ]
  }
 ],
 "metadata": {
  "kernelspec": {
   "display_name": "conda_mxnet_p36",
   "language": "python",
   "name": "conda_mxnet_p36"
  },
  "language_info": {
   "codemirror_mode": {
    "name": "ipython",
    "version": 3
   },
   "file_extension": ".py",
   "mimetype": "text/x-python",
   "name": "python",
   "nbconvert_exporter": "python",
   "pygments_lexer": "ipython3",
   "version": "3.6.5"
  }
 },
 "nbformat": 4,
 "nbformat_minor": 4
}
