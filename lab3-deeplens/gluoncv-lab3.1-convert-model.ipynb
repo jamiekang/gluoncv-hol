{
 "cells": [
  {
   "cell_type": "markdown",
   "metadata": {},
   "source": [
    "# AWS DevDay Seoul 2019\n",
    "## 모두를 위한 컴퓨터 비전 딥러닝 툴킷, GluonCV 따라하기\n",
    "### Lab 3. Object detection 모델을 AWS DeepLens에 배포하기"
   ]
  },
  {
   "cell_type": "markdown",
   "metadata": {},
   "source": [
    "#### 랩 순서\n",
    "\n",
    "1. GluonCV 모델을 DeepLens에 배포할 모델 형태로 준비하기\n",
    "2. DeepLens 모델 정의하기\n",
    "3. DeepLens 프로젝트 만들기\n",
    "4. DeepLens에 배포하고 테스트하기"
   ]
  },
  {
   "cell_type": "markdown",
   "metadata": {},
   "source": [
    "DeepLens에 배포한 모델을 저장할 S3 버킷이름과 모델 파일 이름을 정합니다.\n",
    "\n",
    "> 주의: S3 버킷 이름은 꼭 **\"deeplens-\"**로 시작해야합니다."
   ]
  },
  {
   "cell_type": "code",
   "execution_count": 1,
   "metadata": {},
   "outputs": [],
   "source": [
    "S3_BUCKET = 'deeplens-mh-s3-us-east-1'\n",
    "DL_MODEL_NAME = 'model-yolov3.tar.gz'"
   ]
  },
  {
   "cell_type": "code",
   "execution_count": 2,
   "metadata": {},
   "outputs": [
    {
     "name": "stdout",
     "output_type": "stream",
     "text": [
      "make_bucket: deeplens-mh-s3-us-east-1\n"
     ]
    }
   ],
   "source": [
    "!aws s3 mb s3://$S3_BUCKET --region us-east-1"
   ]
  },
  {
   "cell_type": "markdown",
   "metadata": {},
   "source": [
    "### Task 1 - GluonCV 모델을 DeepLens에 배포할 모델 형태로 준비하기\n",
    "http://mxnet.incubator.apache.org/versions/master/tutorials/gluon/save_load_params.html"
   ]
  },
  {
   "cell_type": "code",
   "execution_count": 3,
   "metadata": {},
   "outputs": [],
   "source": [
    "import mxnet as mx\n",
    "import gluoncv as gcv"
   ]
  },
  {
   "cell_type": "code",
   "execution_count": 4,
   "metadata": {},
   "outputs": [],
   "source": [
    "net_name = 'yolo3_darknet53_custom'\n",
    "model_param_fname = 'yolo3_darknet53_voc_0000_0.0000.params'\n",
    "classes = ['Bird', 'Boat', 'Car', 'Person']\n",
    "\n",
    "ctx = mx.gpu()"
   ]
  },
  {
   "cell_type": "code",
   "execution_count": 5,
   "metadata": {},
   "outputs": [],
   "source": [
    "net = gcv.model_zoo.get_model(net_name, classes=classes, ctx=ctx)\n",
    "net.load_parameters(model_param_fname, ctx=ctx)\n",
    "\n",
    "net.hybridize()\n",
    "\n",
    "x=mx.ndarray.zeros([1, 3, 512, 512], ctx=ctx)\n",
    "y=net(x)\n",
    "\n",
    "mx.nd.waitall()\n",
    "net.export('deeplens-yolov3')"
   ]
  },
  {
   "cell_type": "markdown",
   "metadata": {},
   "source": [
    "모델의 심볼 파일(.json)과 파라메터 파일(.params)가 잘 생성되었는지 확인하고, tar.gz 형태로 압축한 후 위에서 지정한 S3 bucket으로 업로드합니다."
   ]
  },
  {
   "cell_type": "code",
   "execution_count": 6,
   "metadata": {},
   "outputs": [
    {
     "name": "stdout",
     "output_type": "stream",
     "text": [
      "-rw-rw-r-- 1 ec2-user ec2-user 246794208 Sep 12 21:07 deeplens-yolov3-0000.params\n",
      "-rw-rw-r-- 1 ec2-user ec2-user    217006 Sep 12 21:07 deeplens-yolov3-symbol.json\n",
      "-rw-rw-r-- 1 ec2-user ec2-user 228907234 Sep 12 01:10 deeplens-yolov3.zip\n"
     ]
    }
   ],
   "source": [
    "!ls -l deeplens-yolov3*"
   ]
  },
  {
   "cell_type": "code",
   "execution_count": 7,
   "metadata": {},
   "outputs": [
    {
     "name": "stdout",
     "output_type": "stream",
     "text": [
      "./deeplens-yolov3-0000.params\n",
      "./deeplens-yolov3-symbol.json\n",
      "upload: ./model-yolov3.tar.gz to s3://deeplens-mh-s3-us-east-1/models/model-yolov3.tar.gz\n"
     ]
    }
   ],
   "source": [
    "!tar cvfz ./$DL_MODEL_NAME ./deeplens-yolov3-*\n",
    "!aws s3 cp ./$DL_MODEL_NAME s3://$S3_BUCKET/models/"
   ]
  },
  {
   "cell_type": "markdown",
   "metadata": {},
   "source": [
    "### Task 2 - DeepLens 모델 정의하기\n",
    "\n",
    "1. DeepLens 콜솔로 이동 후, 'Resources > Models' 선택\n",
    "2. 'Import model' 버튼 클릭"
   ]
  },
  {
   "cell_type": "markdown",
   "metadata": {},
   "source": [
    "![](./images/devday-deeplens-lab-01.png)"
   ]
  },
  {
   "cell_type": "markdown",
   "metadata": {},
   "source": [
    "3. 'Import source'를 'Externally trained model'로 변경\n",
    "4. Model settings에 값들을 입력\n",
    "- Model artifact path: s3://__S3_BUCKET__/models/model-yolov3.tar.gz\n",
    "- Model name: model 이름 (예, object-detection)\n",
    "- Model framework: MXNet 선택"
   ]
  },
  {
   "cell_type": "markdown",
   "metadata": {},
   "source": [
    "![](./images/devday-deeplens-lab-02.png)"
   ]
  },
  {
   "cell_type": "markdown",
   "metadata": {},
   "source": [
    "### Task 2 - DeepLens 프로젝트 만들기\n",
    "\n",
    "1. DeepLens 콜솔로 이동 후, 'Resources > Projects' 선택\n",
    "2. 'Create new project' 버튼 클릭"
   ]
  },
  {
   "cell_type": "markdown",
   "metadata": {},
   "source": [
    "![](./images/devday-deeplens-lab-03.png)"
   ]
  },
  {
   "cell_type": "markdown",
   "metadata": {},
   "source": [
    "3. Project type은 'Use a project template' 선택\n",
    "4. Project templates은 'Object detection' 선택 후, 'Next' 클릭"
   ]
  },
  {
   "cell_type": "markdown",
   "metadata": {},
   "source": [
    "![](./images/devday-deeplens-lab-04.png)"
   ]
  },
  {
   "cell_type": "markdown",
   "metadata": {},
   "source": [
    "5. Project name, description 입력 후, 'Create' 버튼 클릭"
   ]
  },
  {
   "cell_type": "markdown",
   "metadata": {},
   "source": [
    "![](./images/devday-deeplens-lab-05.png)"
   ]
  },
  {
   "cell_type": "markdown",
   "metadata": {},
   "source": [
    "6. 목록에서 생성된 프로젝트 클릭"
   ]
  },
  {
   "cell_type": "markdown",
   "metadata": {},
   "source": [
    "![](./images/devday-deeplens-lab-06.png)"
   ]
  },
  {
   "cell_type": "markdown",
   "metadata": {},
   "source": [
    "7. 모델 및 Lambda 함수 수정을 위해, 'Edit' 버튼 클릭"
   ]
  },
  {
   "cell_type": "markdown",
   "metadata": {},
   "source": [
    "![](./images/devday-deeplens-lab-07.png)"
   ]
  },
  {
   "cell_type": "markdown",
   "metadata": {},
   "source": [
    "8. 기본 모델 삭제를 위해서, Model의 'Remove' 버튼 클릭"
   ]
  },
  {
   "cell_type": "markdown",
   "metadata": {},
   "source": [
    "![](./images/devday-deeplens-lab-08.png)"
   ]
  },
  {
   "cell_type": "markdown",
   "metadata": {},
   "source": [
    "9. GluonCV로 학습시킨 모델을 추가하기 위해서, 'Add model' 클릭"
   ]
  },
  {
   "cell_type": "markdown",
   "metadata": {},
   "source": [
    "![](./images/devday-deeplens-lab-09.png)"
   ]
  },
  {
   "cell_type": "markdown",
   "metadata": {},
   "source": [
    "10. 모델 목록에서, 이전 단계에서 정의한 모델 선택 후 'Add model' 버튼 클ㄹ릭"
   ]
  },
  {
   "cell_type": "markdown",
   "metadata": {},
   "source": [
    "![](./images/devday-deeplens-lab-10.png)"
   ]
  },
  {
   "cell_type": "code",
   "execution_count": null,
   "metadata": {},
   "outputs": [],
   "source": []
  },
  {
   "cell_type": "code",
   "execution_count": null,
   "metadata": {},
   "outputs": [],
   "source": []
  },
  {
   "cell_type": "code",
   "execution_count": null,
   "metadata": {},
   "outputs": [],
   "source": []
  },
  {
   "cell_type": "code",
   "execution_count": null,
   "metadata": {},
   "outputs": [],
   "source": []
  },
  {
   "cell_type": "code",
   "execution_count": null,
   "metadata": {},
   "outputs": [],
   "source": []
  },
  {
   "cell_type": "markdown",
   "metadata": {},
   "source": [
    "DeepLens에 연결된 모니터을 통해서 결과를 확인하기 위해서는 DeepLens에 로그인해서 아래 명령을 수행합니다."
   ]
  },
  {
   "cell_type": "markdown",
   "metadata": {},
   "source": [
    "```\n",
    "mplayer -demuxer lavf /opt/awscam/out/ch1_out.h264\n",
    "```"
   ]
  },
  {
   "cell_type": "code",
   "execution_count": null,
   "metadata": {},
   "outputs": [],
   "source": []
  }
 ],
 "metadata": {
  "kernelspec": {
   "display_name": "conda_mxnet_p36",
   "language": "python",
   "name": "conda_mxnet_p36"
  },
  "language_info": {
   "codemirror_mode": {
    "name": "ipython",
    "version": 3
   },
   "file_extension": ".py",
   "mimetype": "text/x-python",
   "name": "python",
   "nbconvert_exporter": "python",
   "pygments_lexer": "ipython3",
   "version": "3.6.5"
  }
 },
 "nbformat": 4,
 "nbformat_minor": 4
}
