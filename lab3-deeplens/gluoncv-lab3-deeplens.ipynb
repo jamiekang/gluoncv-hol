{
 "cells": [
  {
   "cell_type": "markdown",
   "metadata": {},
   "source": [
    "# AWS DevDay Seoul 2019\n",
    "## 모두를 위한 컴퓨터 비전 딥러닝 툴킷, GluonCV 따라하기\n",
    "### Lab 3. Object detection 모델을 AWS DeepLens에 배포하기"
   ]
  },
  {
   "cell_type": "markdown",
   "metadata": {},
   "source": [
    "#### 랩 순서\n",
    "\n",
    "1. GluonCV 모델을 DeepLens에 배포할 모델 형태로 준비하기\n",
    "2. DeepLens 모델 정의하기\n",
    "3. 제공된 DeepLens 프로젝트에서 모델 교체하기\n",
    "4. DeepLens에 배포하고 테스트하기"
   ]
  },
  {
   "cell_type": "markdown",
   "metadata": {},
   "source": [
    "DeepLens에 배포한 모델을 저장할 S3 버킷이름과 모델 파일 이름을 정합니다.\n",
    "\n",
    "> 주의: S3 버킷 이름은 꼭 **\"deeplens-\"**로 시작해야합니다."
   ]
  },
  {
   "cell_type": "code",
   "execution_count": 2,
   "metadata": {},
   "outputs": [],
   "source": [
    "S3_BUCKET = 'deeplens-mh-s3-us-east-1'\n",
    "DL_MODEL_NAME = 'model-yolov3.tar.gz'"
   ]
  },
  {
   "cell_type": "code",
   "execution_count": 3,
   "metadata": {},
   "outputs": [
    {
     "name": "stdout",
     "output_type": "stream",
     "text": [
      "make_bucket: deeplens-mh-s3-us-east-1\n"
     ]
    }
   ],
   "source": [
    "!aws s3 mb s3://$S3_BUCKET --region us-east-1"
   ]
  },
  {
   "cell_type": "markdown",
   "metadata": {},
   "source": [
    "### Task 1 - GluonCV 모델을 DeepLens에 배포할 모델 형태로 준비하기"
   ]
  },
  {
   "cell_type": "code",
   "execution_count": 4,
   "metadata": {},
   "outputs": [],
   "source": [
    "import mxnet as mx\n",
    "import gluoncv as gcv"
   ]
  },
  {
   "cell_type": "code",
   "execution_count": 5,
   "metadata": {},
   "outputs": [],
   "source": [
    "net_name = 'yolo3_darknet53_custom'\n",
    "model_param_fname = '../lab2-gluoncv/yolo3_darknet53_voc_0000.params'\n",
    "classes = ['bird', 'boat', 'car', 'person']\n",
    "\n",
    "ctx = mx.gpu()"
   ]
  },
  {
   "cell_type": "code",
   "execution_count": 6,
   "metadata": {},
   "outputs": [],
   "source": [
    "net = gcv.model_zoo.get_model(net_name, classes=classes, ctx=ctx)\n",
    "net.load_parameters(model_param_fname, ctx=ctx)\n",
    "\n",
    "net.hybridize()\n",
    "\n",
    "x=mx.ndarray.zeros([1, 3, 512, 512], ctx=ctx)\n",
    "y=net(x)\n",
    "\n",
    "mx.nd.waitall()\n",
    "net.export('deeplens-yolov3')"
   ]
  },
  {
   "cell_type": "markdown",
   "metadata": {},
   "source": [
    "모델의 심볼 파일(.json)과 파라메터 파일(.params)이 잘 생성되었는지 확인하고, tar.gz 형태로 압축한 후 위에서 지정한 S3 bucket으로 업로드합니다.\n",
    "\n",
    "> **주의** 강연자의 별도의 안내가 있을 경우, 지급된 USB 메모리스틱에 압축 파일을 복사하고, S3 버킷 업로드는 생략합니다."
   ]
  },
  {
   "cell_type": "code",
   "execution_count": 7,
   "metadata": {},
   "outputs": [
    {
     "name": "stdout",
     "output_type": "stream",
     "text": [
      "-rw-rw-r-- 1 ec2-user ec2-user 246794208 Sep 24 04:18 deeplens-yolov3-0000.params\n",
      "-rw-rw-r-- 1 ec2-user ec2-user    217006 Sep 24 04:18 deeplens-yolov3-symbol.json\n"
     ]
    }
   ],
   "source": [
    "!ls -l deeplens-yolov3*"
   ]
  },
  {
   "cell_type": "code",
   "execution_count": 8,
   "metadata": {},
   "outputs": [
    {
     "name": "stdout",
     "output_type": "stream",
     "text": [
      "./deeplens-yolov3-0000.params\n",
      "./deeplens-yolov3-symbol.json\n",
      "upload: ./model-yolov3.tar.gz to s3://deeplens-mh-s3-us-east-1/models/model-yolov3.tar.gz\n"
     ]
    }
   ],
   "source": [
    "!tar cvfz ./$DL_MODEL_NAME ./deeplens-yolov3-*\n",
    "!aws s3 cp ./$DL_MODEL_NAME s3://$S3_BUCKET/models/"
   ]
  },
  {
   "cell_type": "markdown",
   "metadata": {},
   "source": [
    "### Task 2 - DeepLens 모델 정의하기\n",
    "\n",
    "> **주의** 강연자의 별도의 안내가 있을 경우, Task 2를 수행하지 않고 Task 3을 수행합니다.\n",
    "\n",
    "1. DeepLens 콜솔로 이동 후, 'Resources > Models' 선택\n",
    "2. 'Import model' 버튼 클릭"
   ]
  },
  {
   "cell_type": "markdown",
   "metadata": {},
   "source": [
    "![](./images/devday-deeplens-lab-01.png)"
   ]
  },
  {
   "cell_type": "markdown",
   "metadata": {},
   "source": [
    "3. 'Import source'를 'Externally trained model'로 변경\n",
    "4. Model settings에 값들을 입력\n",
    "- Model artifact path: s3://__S3_BUCKET__/models/model-yolov3.tar.gz\n",
    "- Model name: model 이름 (예, object-detection)\n",
    "- Model framework: MXNet 선택"
   ]
  },
  {
   "cell_type": "markdown",
   "metadata": {},
   "source": [
    "![](./images/devday-deeplens-lab-02.png)"
   ]
  },
  {
   "cell_type": "markdown",
   "metadata": {},
   "source": [
    "### Task 3 - 제공된 DeepLens 프로젝트에서 모델 교체하기\n",
    "\n",
    "1. DeepLens 콜솔로 이동 후, 'Resources > Projects' 선택하고,\n",
    "2. 프로젝트 목록에서 'devday' 클릭합니다."
   ]
  },
  {
   "cell_type": "markdown",
   "metadata": {},
   "source": [
    "![](./images/devday-deeplens-lab-06.png)"
   ]
  },
  {
   "cell_type": "markdown",
   "metadata": {},
   "source": [
    "3. 모델 변경을 위해서 Model의 'Remove' 버튼 클릭"
   ]
  },
  {
   "cell_type": "markdown",
   "metadata": {},
   "source": [
    "![](./images/devday-deeplens-lab-08.png)"
   ]
  },
  {
   "cell_type": "markdown",
   "metadata": {},
   "source": [
    "4. GluonCV로 학습시킨 모델을 추가하기 위해서, 'Add model' 클릭"
   ]
  },
  {
   "cell_type": "markdown",
   "metadata": {},
   "source": [
    "![](./images/devday-deeplens-lab-09.png)"
   ]
  },
  {
   "cell_type": "markdown",
   "metadata": {},
   "source": [
    "5. 모델 목록에서, 이전 단계에서 정의한 모델 선택 후 'Add model' 버튼 클ㄹ릭"
   ]
  },
  {
   "cell_type": "markdown",
   "metadata": {},
   "source": [
    "![](./images/devday-deeplens-lab-10.png)"
   ]
  },
  {
   "cell_type": "markdown",
   "metadata": {},
   "source": [
    "DeepLens에 연결된 모니터을 통해서 결과를 확인하기 위해서는 DeepLens에 로그인해서 아래 명령을 수행합니다."
   ]
  },
  {
   "cell_type": "markdown",
   "metadata": {},
   "source": [
    "```\n",
    "mplayer -demuxer lavf /opt/awscam/out/ch1_out.h264\n",
    "```"
   ]
  },
  {
   "cell_type": "markdown",
   "metadata": {},
   "source": [
    "### Task 3 - 모델 파일을 직접 DeepLens에 옮기기\n",
    "\n",
    "> 이 단계는 DeepLens 콘솔을 통한 모델 배포가 아닌, DeepLens에 직접 모델을 복사하여 실행하는 방법을 설명합니다."
   ]
  },
  {
   "cell_type": "markdown",
   "metadata": {},
   "source": [
    "1. DeepLens에 직접 로그인"
   ]
  },
  {
   "cell_type": "markdown",
   "metadata": {},
   "source": [
    "2. USB에 있는 모델 파일 복사\n",
    "\n",
    "\n",
    "```\n",
    "$ sudo bash\n",
    "<비밀번호 입력>\n",
    "\n",
    "# cd /media/aws_cam/*\n",
    "# ls\n",
    "<모델 파일 이름 확인>\n",
    "\n",
    "# cp <모델 파일 이름> /opt/awscam/greengrass/ggc/deployment/mlmodel/<디렉토리 이름 업데이트 예정>\n",
    "\n",
    "```"
   ]
  },
  {
   "cell_type": "markdown",
   "metadata": {},
   "source": [
    "3. Greengrass 서비스 재시작\n",
    "\n",
    "```\n",
    "sudo systemctl restart greengrassd.service\n",
    "```"
   ]
  },
  {
   "cell_type": "markdown",
   "metadata": {},
   "source": [
    "4. 수행 결과 확인\n",
    "\n",
    "DeepLens에 연결된 모니터을 통해서 결과를 확인하기 위해서는 DeepLens에 로그인해서 아래 명령을 수행합니다.\n",
    "\n",
    "```\n",
    "mplayer -demuxer lavf /opt/awscam/out/ch1_out.h264\n",
    "```"
   ]
  },
  {
   "cell_type": "code",
   "execution_count": null,
   "metadata": {},
   "outputs": [],
   "source": []
  }
 ],
 "metadata": {
  "kernelspec": {
   "display_name": "conda_mxnet_p36",
   "language": "python",
   "name": "conda_mxnet_p36"
  },
  "language_info": {
   "codemirror_mode": {
    "name": "ipython",
    "version": 3
   },
   "file_extension": ".py",
   "mimetype": "text/x-python",
   "name": "python",
   "nbconvert_exporter": "python",
   "pygments_lexer": "ipython3",
   "version": "3.6.5"
  }
 },
 "nbformat": 4,
 "nbformat_minor": 4
}
